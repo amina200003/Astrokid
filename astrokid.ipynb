{
 "cells": [
  {
   "cell_type": "raw",
   "id": "4e439bd6-01ac-4fd3-a27e-01ca564cfdae",
   "metadata": {},
   "source": [
    "Old prompt: \n",
    "\n",
    "\"\"\"I want you to act as a astronomy expert. I will provide some questions about astronomy concepts , and it will be your job to explain them in\n",
    "            easy-to-understand terms for children as old as 6 years old. \n",
    "            This could include providing easy and understandable examples, demonstrating various techniques with\n",
    "                visuals or suggesting online resources for further study\"\"\""
   ]
  },
  {
   "cell_type": "code",
   "execution_count": 25,
   "id": "a0dbf93e-22e0-448d-a962-b1b36282f6ac",
   "metadata": {},
   "outputs": [
    {
     "name": "stdout",
     "output_type": "stream",
     "text": [
      "Welcome to AstroTeacher! Ask me anything about astronomy. (Type 'exit' to quit)\n",
      "\n"
     ]
    },
    {
     "name": "stdin",
     "output_type": "stream",
     "text": [
      "You:  How long does it take to go to Mars\n"
     ]
    },
    {
     "name": "stderr",
     "output_type": "stream",
     "text": [
      "C:\\Users\\amina\\AppData\\Local\\Temp\\ipykernel_228\\3499167807.py:17: RuntimeWarning: This package (`duckduckgo_search`) has been renamed to `ddgs`! Use `pip install ddgs` instead.\n",
      "  with DDGS() as ddgs:\n"
     ]
    },
    {
     "name": "stdout",
     "output_type": "stream",
     "text": [
      "AstroTeacher: The journey to Mars typically takes about 7 to 9 months. The exact duration depends on several factors, including the alignment of Earth and Mars, the chosen trajectory of the spacecraft, and the propulsion technology used.\n",
      "\n",
      "Would you like to know more about this topic?\n"
     ]
    },
    {
     "name": "stdin",
     "output_type": "stream",
     "text": [
      "You:  Can I go to Mars even if Im 7 years old\n"
     ]
    },
    {
     "name": "stderr",
     "output_type": "stream",
     "text": [
      "C:\\Users\\amina\\AppData\\Local\\Temp\\ipykernel_228\\3499167807.py:17: RuntimeWarning: This package (`duckduckgo_search`) has been renamed to `ddgs`! Use `pip install ddgs` instead.\n",
      "  with DDGS() as ddgs:\n"
     ]
    },
    {
     "name": "stdout",
     "output_type": "stream",
     "text": [
      "AstroTeacher: That's a fantastic question! It shows you have a big sense of adventure.\n",
      "\n",
      "Right now, you can't go to Mars, and in fact, no person has ever been to Mars yet. Only very tough robots have made the journey.\n",
      "\n",
      "Astronauts have to be adults because the trip is very hard on the human body. They also need many years of special training and education after they finish college.\n",
      "\n",
      "But here's the exciting part: by the time you're old enough to become an astronaut, we will be much, much closer to sending people to Mars. If you want to be one of them, you can start preparing right now by:\n",
      "\n",
      "*   **Studying hard in school**, especially in science and math.\n",
      "*   **Staying healthy and active.**\n",
      "*   **Always being curious** and learning as much as you can about space.\n",
      "\n",
      "So keep that dream alive! Maybe you'll be one of the first humans to walk on the Red Planet.\n",
      "\n",
      "Would you like to know more about this topic?\n"
     ]
    },
    {
     "name": "stdin",
     "output_type": "stream",
     "text": [
      "You:  exit\n"
     ]
    },
    {
     "name": "stdout",
     "output_type": "stream",
     "text": [
      "AstroTeacher: Goodbye! Keep looking at the stars!\n"
     ]
    }
   ],
   "source": [
    "import subprocess\n",
    "import os\n",
    "from duckduckgo_search import DDGS\n",
    "\n",
    "gem_path= r\"C:\\Users\\amina\\AppData\\Roaming\\npm\\gemini.cmd\"\n",
    "# astronomy_keywords=[  \"planet\", \"sun\", \"star\", \"galaxy\", \"black hole\", \"universe\", \"solar system\",\n",
    "#     \"space\", \"orbit\", \"moon\", \"comet\", \"meteor\", \"astronaut\", \"NASA\", \"cosmos\",\n",
    "#     \"Milky Way\", \"gravity\", \"big bang\", \"telescope\", \"astronomy\", \"nebula\", \"dark matter\",\"aliens\",\"Mars\",\n",
    "#     \"Jupiter\",\"Neptune\",\"Mercure\",\"Earth\",\"Saturn\"\n",
    "# ]\n",
    "\n",
    "# def is_astro_question(question):\n",
    "#     q_lower= question.lower()\n",
    "#     return any(keyword in q_lower for keyword in astronomy_keywords)\n",
    "\n",
    "def web_search(query, max_results=3 ):\n",
    "    with DDGS() as ddgs:\n",
    "        results= ddgs.text(query, max_results=max_results)\n",
    "        return [r[\"body\"] for r in results]\n",
    "\n",
    "def ask_gemini(question, web_contxt=\"\"):\n",
    "    try:\n",
    "        prompt = f\"\"\"I want you to act as a astronomy expert. I will provide some questions about astronomy concepts , and it will be your job to explain them in\n",
    "            easy-to-understand terms for children as old as 6 years old. \n",
    "            This could include providing easy and understandable examples, demonstrating various techniques with\n",
    "                visuals or suggesting online resources for further study\n",
    "                \n",
    "                Here is some informations from web search:\n",
    "                {web_contxt}\n",
    "                Question: {question}\n",
    "                Answer:\"\"\"\n",
    "        result= subprocess.run(\n",
    "            [gem_path,\"-p\",question],\n",
    "            capture_output=True,\n",
    "            text=True\n",
    "        )\n",
    "        return result.stdout.strip()\n",
    "    except FileNotFoundError:\n",
    "        return \"gemini cli not found\"\n",
    "    except Exception as e:\n",
    "        return f\"an error occured:{str(e)}\"\n",
    "\n",
    "def astro_teacher(question):\n",
    "    # if not is_astro_question(question):\n",
    "    #     return \"I can't answer this question\"\n",
    "    web_contxt= web_search(question)\n",
    "    response = ask_gemini(question)\n",
    "    if response:\n",
    "        return response + \"\\n\\nWould you like to know more about this topic?\"\n",
    "    else:\n",
    "        return \"Hmm, I couldn't get an answer right now. Please try again later.\"\n",
    "\n",
    "# === Run interaction ===\n",
    "if __name__ == \"__main__\":\n",
    "    print(\"Welcome to AstroTeacher! Ask me anything about astronomy. (Type 'exit' to quit)\\n\")\n",
    "\n",
    "    while True:\n",
    "        user_input = input(\"You: \")\n",
    "        if user_input.lower() in [\"exit\",\"quit\"]:\n",
    "            print(\"AstroTeacher: Goodbye! Keep looking at the stars!\")\n",
    "            break\n",
    "        response= astro_teacher(user_input)\n",
    "        print(\"AstroTeacher:\", response)\n",
    "        "
   ]
  },
  {
   "cell_type": "code",
   "execution_count": null,
   "id": "baff1367-60e4-46d8-aa9d-5aaadeaeaff8",
   "metadata": {},
   "outputs": [],
   "source": []
  }
 ],
 "metadata": {
  "kernelspec": {
   "display_name": "Python 3 (ipykernel)",
   "language": "python",
   "name": "python3"
  },
  "language_info": {
   "codemirror_mode": {
    "name": "ipython",
    "version": 3
   },
   "file_extension": ".py",
   "mimetype": "text/x-python",
   "name": "python",
   "nbconvert_exporter": "python",
   "pygments_lexer": "ipython3",
   "version": "3.11.10"
  }
 },
 "nbformat": 4,
 "nbformat_minor": 5
}
